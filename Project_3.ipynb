{
 "cells": [
  {
   "cell_type": "markdown",
   "metadata": {},
   "source": [
    "# Project 3: Understanding User Behavior"
   ]
  },
  {
   "cell_type": "markdown",
   "metadata": {},
   "source": [
    "## Project Overview\n",
    "\n",
    "***\n",
    "### Project Context\n",
    "\n",
    "- You're a data scientist at a game development company  \n",
    "\n",
    "- Your latest mobile game has two events you're interested in tracking: `buy\n",
    "  sword` & `join guild`\n",
    "\n",
    "- Each has metadata characterstic of such events (i.e., sword type, guild name,\n",
    "  etc)\n",
    "\n",
    "\n",
    "### Pipeline and Tools\n",
    "\n",
    "- Flask API server to log events to Kafka. Uses game_api.py\n",
    "\n",
    "- Outlined below is how to assemble the data pipeline to catch these events: for batch processing and analysis with Spark sql and using Spark streaming to filter select event types from Kafka, land them into HDFS/parquet to make them available for analysis using Presto. \n",
    "\n",
    "- Apache Bench and bash script to generate test data for the pipeline.\n",
    "\n",
    "- Some basic analysis of the events generated in a sample of data pipeline use for batch and stream processing. "
   ]
  },
  {
   "cell_type": "markdown",
   "metadata": {},
   "source": [
    "## Pipeline and Cluster Set Up\n",
    "*** \n",
    "\n",
    "### Spin up cluster\n",
    "```\n",
    "docker-compose up -d\n",
    "```\n",
    "*** \n",
    "\n",
    "### Create Kafka Events Topic\n",
    "```\n",
    "docker-compose exec kafka kafka-topics --create --topic events --partitions 1 --replication-factor 1 --if-not-exists --zookeeper zookeeper:32181\n",
    "```\n",
    "*** \n",
    "### Run Flask\n",
    "```\n",
    "docker-compose exec mids env FLASK_APP=/w205/project-3-Cuffnela/game_api.py flask run --host 0.0.0.0\n",
    "```\n",
    "*** \n",
    "### Generate Events with Apache Bench\n",
    "\n",
    "#### Default\n",
    "```\n",
    "docker-compose exec mids ab -n 10 -H \"Host: user1.comcast.com\" http://localhost:5000/\n",
    "```\n",
    "\n",
    "#### Buy Swords\n",
    "```\n",
    "docker-compose exec mids ab -n 10 -H \"Host: user1.comcast.com\" http://localhost:5000/buy_sword/dagger\n",
    "\n",
    "docker-compose exec mids ab -n 10 -H \"Host: user1.comcast.com\" http://localhost:5000/buy_sword/longsword\n",
    "```\n",
    "\n",
    "#### Join Guilds \n",
    "```\n",
    "docker-compose exec mids ab -n 10 -H \"Host: user1.comcast.com\" http://localhost:5000/join_guild/Sea_of_Sorrows\n",
    "\n",
    "docker-compose exec mids ab -n 10 -H \"Host: user1.comcast.com\" http://localhost:5000/join_guild/Henge_of_Denravi\n",
    "\n",
    "docker-compose exec mids ab -n 10 -H \"Host: user1.comcast.com\" http://localhost:5000/join_guild/Gates_of_Madness\n",
    "```\n",
    "\n",
    "#### Infinite Loop for streaming\n",
    "The bash script `random_streaming_events.sh` randomly generates between 1 and 10 of a randomly selected event with an randomly selected user.  \n",
    "```\n",
    "while true; do ./random_streaming_events.sh; sleep 5; done\n",
    "```\n",
    "\n",
    "*** \n",
    "### Shutdown Cluster\n",
    "```\n",
    "docker-compose down\n",
    "```\n",
    "*** \n"
   ]
  },
  {
   "cell_type": "markdown",
   "metadata": {},
   "source": [
    "# Batch Data Ingestion"
   ]
  },
  {
   "cell_type": "markdown",
   "metadata": {},
   "source": [
    "## Filter Events and Write Parquet \n",
    "The Python code below extracts events from the kafka events topic and filters by event_type. Filtered purchase and guild event data are then written to HDFS in Parquet format. This code is intended for batch processing data. "
   ]
  },
  {
   "cell_type": "code",
   "execution_count": 7,
   "metadata": {},
   "outputs": [
    {
     "name": "stdout",
     "output_type": "stream",
     "text": [
      "root\n",
      " |-- Accept: string (nullable = true)\n",
      " |-- Host: string (nullable = true)\n",
      " |-- User-Agent: string (nullable = true)\n",
      " |-- event_type: string (nullable = true)\n",
      " |-- sword_type: string (nullable = true)\n",
      " |-- timestamp: string (nullable = true)\n",
      "\n",
      "+------+-----------------+---------------+----------+----------+--------------------+\n",
      "|Accept|             Host|     User-Agent|event_type|sword_type|           timestamp|\n",
      "+------+-----------------+---------------+----------+----------+--------------------+\n",
      "|   */*|user2.comcast.com|ApacheBench/2.3| buy_sword|    dagger|2021-04-13 00:00:...|\n",
      "|   */*|user2.comcast.com|ApacheBench/2.3| buy_sword|    dagger|2021-04-13 00:00:...|\n",
      "|   */*|user2.comcast.com|ApacheBench/2.3| buy_sword|    dagger|2021-04-13 00:00:...|\n",
      "|   */*|user2.comcast.com|ApacheBench/2.3| buy_sword|    dagger|2021-04-13 00:00:...|\n",
      "|   */*|user2.comcast.com|ApacheBench/2.3| buy_sword|    dagger|2021-04-13 00:00:...|\n",
      "|   */*|user2.comcast.com|ApacheBench/2.3| buy_sword|    dagger|2021-04-13 00:00:...|\n",
      "|   */*|user2.comcast.com|ApacheBench/2.3| buy_sword| longsword|2021-04-13 00:00:...|\n",
      "|   */*|user2.comcast.com|ApacheBench/2.3| buy_sword| longsword|2021-04-13 00:00:...|\n",
      "|   */*|    user1.att.com|ApacheBench/2.3| buy_sword|    dagger|2021-04-13 00:00:...|\n",
      "|   */*|    user1.att.com|ApacheBench/2.3| buy_sword|    dagger|2021-04-13 00:00:...|\n",
      "|   */*|    user1.att.com|ApacheBench/2.3| buy_sword|    dagger|2021-04-13 00:00:...|\n",
      "|   */*|    user1.att.com|ApacheBench/2.3| buy_sword|    dagger|2021-04-13 00:00:...|\n",
      "|   */*|    user1.att.com|ApacheBench/2.3| buy_sword|    dagger|2021-04-13 00:00:...|\n",
      "|   */*|    user1.att.com|ApacheBench/2.3| buy_sword|    dagger|2021-04-13 00:00:...|\n",
      "|   */*|user2.comcast.com|ApacheBench/2.3| buy_sword| longsword|2021-04-13 00:01:...|\n",
      "|   */*|user2.comcast.com|ApacheBench/2.3| buy_sword| longsword|2021-04-13 00:01:...|\n",
      "|   */*|    user1.att.com|ApacheBench/2.3| buy_sword| longsword|2021-04-13 00:01:...|\n",
      "|   */*|    user1.att.com|ApacheBench/2.3| buy_sword| longsword|2021-04-13 00:01:...|\n",
      "|   */*|    user1.att.com|ApacheBench/2.3| buy_sword| longsword|2021-04-13 00:01:...|\n",
      "|   */*|    user1.att.com|ApacheBench/2.3| buy_sword| longsword|2021-04-13 00:01:...|\n",
      "+------+-----------------+---------------+----------+----------+--------------------+\n",
      "only showing top 20 rows\n",
      "\n",
      "root\n",
      " |-- Accept: string (nullable = true)\n",
      " |-- Host: string (nullable = true)\n",
      " |-- User-Agent: string (nullable = true)\n",
      " |-- event_type: string (nullable = true)\n",
      " |-- guild_name: string (nullable = true)\n",
      " |-- timestamp: string (nullable = true)\n",
      "\n",
      "+------+-----------------+---------------+----------+----------------+--------------------+\n",
      "|Accept|             Host|     User-Agent|event_type|      guild_name|           timestamp|\n",
      "+------+-----------------+---------------+----------+----------------+--------------------+\n",
      "|   */*|    user1.att.com|ApacheBench/2.3|join_guild|Gates_of_Madness|2021-04-13 00:00:...|\n",
      "|   */*|    user1.att.com|ApacheBench/2.3|join_guild|Gates_of_Madness|2021-04-13 00:00:...|\n",
      "|   */*|    user1.att.com|ApacheBench/2.3|join_guild|Gates_of_Madness|2021-04-13 00:00:...|\n",
      "|   */*|    user1.att.com|ApacheBench/2.3|join_guild|Gates_of_Madness|2021-04-13 00:00:...|\n",
      "|   */*|    user1.att.com|ApacheBench/2.3|join_guild|Gates_of_Madness|2021-04-13 00:00:...|\n",
      "|   */*|    user1.att.com|ApacheBench/2.3|join_guild|Gates_of_Madness|2021-04-13 00:00:...|\n",
      "|   */*|    user1.att.com|ApacheBench/2.3|join_guild|Gates_of_Madness|2021-04-13 00:00:...|\n",
      "|   */*|    user1.att.com|ApacheBench/2.3|join_guild|Gates_of_Madness|2021-04-13 00:00:...|\n",
      "|   */*|    user1.att.com|ApacheBench/2.3|join_guild|Gates_of_Madness|2021-04-13 00:00:...|\n",
      "|   */*|    user1.att.com|ApacheBench/2.3|join_guild|Gates_of_Madness|2021-04-13 00:00:...|\n",
      "|   */*|user2.comcast.com|ApacheBench/2.3|join_guild|Henge_of_Denravi|2021-04-13 00:00:...|\n",
      "|   */*|user2.comcast.com|ApacheBench/2.3|join_guild|Henge_of_Denravi|2021-04-13 00:00:...|\n",
      "|   */*|user2.comcast.com|ApacheBench/2.3|join_guild|Henge_of_Denravi|2021-04-13 00:00:...|\n",
      "|   */*|user2.comcast.com|ApacheBench/2.3|join_guild|Henge_of_Denravi|2021-04-13 00:00:...|\n",
      "|   */*|user2.comcast.com|ApacheBench/2.3|join_guild|Henge_of_Denravi|2021-04-13 00:00:...|\n",
      "|   */*|user2.comcast.com|ApacheBench/2.3|join_guild|Henge_of_Denravi|2021-04-13 00:00:...|\n",
      "|   */*|user2.comcast.com|ApacheBench/2.3|join_guild|Henge_of_Denravi|2021-04-13 00:00:...|\n",
      "|   */*|user2.comcast.com|ApacheBench/2.3|join_guild|Henge_of_Denravi|2021-04-13 00:00:...|\n",
      "|   */*|user2.comcast.com|ApacheBench/2.3|join_guild|Henge_of_Denravi|2021-04-13 00:00:...|\n",
      "|   */*|    user1.att.com|ApacheBench/2.3|join_guild|Gates_of_Madness|2021-04-13 00:00:...|\n",
      "+------+-----------------+---------------+----------+----------------+--------------------+\n",
      "only showing top 20 rows\n",
      "\n"
     ]
    }
   ],
   "source": [
    "\"\"\"Extract events from kafka and write them to hdfs\n",
    "\"\"\"\n",
    "import json\n",
    "from pyspark.sql import SparkSession, Row\n",
    "from pyspark.sql.functions import udf\n",
    "\n",
    "\n",
    "@udf('boolean')\n",
    "def is_purchase(event_as_json):\n",
    "    event = json.loads(event_as_json)\n",
    "    if event['event_type'] == 'buy_sword':\n",
    "        return True\n",
    "    return False\n",
    "\n",
    "@udf('boolean')\n",
    "def is_guild(event_as_json):\n",
    "    event = json.loads(event_as_json)\n",
    "    if event['event_type'] == 'join_guild':\n",
    "        return True\n",
    "    return False\n",
    "\n",
    "raw_events = spark \\\n",
    "    .read \\\n",
    "    .format(\"kafka\") \\\n",
    "    .option(\"kafka.bootstrap.servers\", \"kafka:29092\") \\\n",
    "    .option(\"subscribe\", \"events\") \\\n",
    "    .option(\"startingOffsets\", \"earliest\") \\\n",
    "    .option(\"endingOffsets\", \"latest\") \\\n",
    "    .load()\n",
    "\n",
    "# filter and write buy sword events\n",
    "purchase_events = raw_events \\\n",
    "    .select(raw_events.value.cast('string').alias('raw'),\n",
    "            raw_events.timestamp.cast('string')) \\\n",
    "    .filter(is_purchase('raw'))\n",
    "\n",
    "extracted_purchase_events = purchase_events \\\n",
    "    .rdd \\\n",
    "    .map(lambda r: Row(timestamp=r.timestamp, **json.loads(r.raw))) \\\n",
    "    .toDF()\n",
    "extracted_purchase_events.printSchema()\n",
    "extracted_purchase_events.show(5)\n",
    "\n",
    "extracted_purchase_events \\\n",
    "    .write \\\n",
    "    .mode('overwrite') \\\n",
    "    .parquet('/tmp/purchases')\n",
    "\n",
    "# filter and write join guild events\n",
    "guild_events = raw_events \\\n",
    "    .select(raw_events.value.cast('string').alias('raw'),\n",
    "            raw_events.timestamp.cast('string')) \\\n",
    "    .filter(is_guild('raw'))\n",
    "\n",
    "extracted_guild_events = guild_events \\\n",
    "    .rdd \\\n",
    "    .map(lambda r: Row(timestamp=r.timestamp, **json.loads(r.raw))) \\\n",
    "    .toDF()\n",
    "extracted_guild_events.printSchema()\n",
    "extracted_guild_events.show(5)\n",
    "\n",
    "extracted_guild_events \\\n",
    "    .write \\\n",
    "    .mode('overwrite') \\\n",
    "    .parquet('/tmp/guilds')\n"
   ]
  },
  {
   "cell_type": "markdown",
   "metadata": {},
   "source": [
    "## PySpark and Read Parquet\n",
    "Read HDFS parquet files and create temporary external tables table to use for querying data. This cluster uses Cloudera hadoop. These tables can be viewed in cloudera using the command below. \n",
    "```\n",
    "docker-compose exec cloudera hadoop fs -ls /tmp/\n",
    "```"
   ]
  },
  {
   "cell_type": "markdown",
   "metadata": {},
   "source": [
    "### Purchases Table\n",
    "The table contains data for all `buy_sword` events."
   ]
  },
  {
   "cell_type": "code",
   "execution_count": 8,
   "metadata": {},
   "outputs": [
    {
     "name": "stdout",
     "output_type": "stream",
     "text": [
      "+------+-----------------+---------------+----------+----------+--------------------+\n",
      "|Accept|             Host|     User-Agent|event_type|sword_type|           timestamp|\n",
      "+------+-----------------+---------------+----------+----------+--------------------+\n",
      "|   */*|user2.comcast.com|ApacheBench/2.3| buy_sword|    dagger|2021-04-13 00:00:...|\n",
      "|   */*|user2.comcast.com|ApacheBench/2.3| buy_sword|    dagger|2021-04-13 00:00:...|\n",
      "|   */*|user2.comcast.com|ApacheBench/2.3| buy_sword|    dagger|2021-04-13 00:00:...|\n",
      "|   */*|user2.comcast.com|ApacheBench/2.3| buy_sword|    dagger|2021-04-13 00:00:...|\n",
      "|   */*|user2.comcast.com|ApacheBench/2.3| buy_sword|    dagger|2021-04-13 00:00:...|\n",
      "|   */*|user2.comcast.com|ApacheBench/2.3| buy_sword|    dagger|2021-04-13 00:00:...|\n",
      "|   */*|user2.comcast.com|ApacheBench/2.3| buy_sword| longsword|2021-04-13 00:00:...|\n",
      "|   */*|user2.comcast.com|ApacheBench/2.3| buy_sword| longsword|2021-04-13 00:00:...|\n",
      "|   */*|    user1.att.com|ApacheBench/2.3| buy_sword|    dagger|2021-04-13 00:00:...|\n",
      "|   */*|    user1.att.com|ApacheBench/2.3| buy_sword|    dagger|2021-04-13 00:00:...|\n",
      "+------+-----------------+---------------+----------+----------+--------------------+\n",
      "only showing top 10 rows\n",
      "\n"
     ]
    }
   ],
   "source": [
    "purchases = spark.read.parquet('/tmp/purchases')\n",
    "purchases.show(10)\n",
    "purchases.registerTempTable('purchases')"
   ]
  },
  {
   "cell_type": "markdown",
   "metadata": {},
   "source": [
    "### Guilds Table\n",
    "The table contains data for all `join_guild` events."
   ]
  },
  {
   "cell_type": "code",
   "execution_count": 9,
   "metadata": {},
   "outputs": [
    {
     "name": "stdout",
     "output_type": "stream",
     "text": [
      "+------+-------------+---------------+----------+----------------+--------------------+\n",
      "|Accept|         Host|     User-Agent|event_type|      guild_name|           timestamp|\n",
      "+------+-------------+---------------+----------+----------------+--------------------+\n",
      "|   */*|user1.att.com|ApacheBench/2.3|join_guild|Gates_of_Madness|2021-04-13 00:00:...|\n",
      "|   */*|user1.att.com|ApacheBench/2.3|join_guild|Gates_of_Madness|2021-04-13 00:00:...|\n",
      "|   */*|user1.att.com|ApacheBench/2.3|join_guild|Gates_of_Madness|2021-04-13 00:00:...|\n",
      "|   */*|user1.att.com|ApacheBench/2.3|join_guild|Gates_of_Madness|2021-04-13 00:00:...|\n",
      "|   */*|user1.att.com|ApacheBench/2.3|join_guild|Gates_of_Madness|2021-04-13 00:00:...|\n",
      "|   */*|user1.att.com|ApacheBench/2.3|join_guild|Gates_of_Madness|2021-04-13 00:00:...|\n",
      "|   */*|user1.att.com|ApacheBench/2.3|join_guild|Gates_of_Madness|2021-04-13 00:00:...|\n",
      "|   */*|user1.att.com|ApacheBench/2.3|join_guild|Gates_of_Madness|2021-04-13 00:00:...|\n",
      "|   */*|user1.att.com|ApacheBench/2.3|join_guild|Gates_of_Madness|2021-04-13 00:00:...|\n",
      "|   */*|user1.att.com|ApacheBench/2.3|join_guild|Gates_of_Madness|2021-04-13 00:00:...|\n",
      "+------+-------------+---------------+----------+----------------+--------------------+\n",
      "only showing top 10 rows\n",
      "\n"
     ]
    }
   ],
   "source": [
    "guilds = spark.read.parquet('/tmp/guilds')\n",
    "guilds.show(10)\n",
    "guilds.registerTempTable('guilds')"
   ]
  },
  {
   "cell_type": "markdown",
   "metadata": {},
   "source": [
    "## Querying Batch Game Data with SQL\n",
    "Below are example queries of game data. \n",
    "\n",
    "### What is the most popular sword bought by users?\n",
    "In the sample run of the game api more users purchased daggers."
   ]
  },
  {
   "cell_type": "code",
   "execution_count": 19,
   "metadata": {},
   "outputs": [
    {
     "name": "stdout",
     "output_type": "stream",
     "text": [
      "+------+----------+\n",
      "|number|sword_type|\n",
      "+------+----------+\n",
      "|    39|    dagger|\n",
      "|    24| longsword|\n",
      "+------+----------+\n",
      "\n"
     ]
    }
   ],
   "source": [
    "sword_count = spark.sql(\"select count(*) as number, sword_type from purchases group by sword_type order by number desc\")\n",
    "sword_count.show()"
   ]
  },
  {
   "cell_type": "markdown",
   "metadata": {},
   "source": [
    "### How many times did host 'user1.comcast.com' join each of the guilds?"
   ]
  },
  {
   "cell_type": "code",
   "execution_count": 26,
   "metadata": {},
   "outputs": [
    {
     "name": "stdout",
     "output_type": "stream",
     "text": [
      "+-------------------+----------------+\n",
      "|number_times_joined|      guild_name|\n",
      "+-------------------+----------------+\n",
      "|                 35|Henge_of_Denravi|\n",
      "|                 30|Gates_of_Madness|\n",
      "|                 11|  Sea_of_Sorrows|\n",
      "+-------------------+----------------+\n",
      "\n"
     ]
    }
   ],
   "source": [
    "guild_joins_by_user1 = spark.sql(\"select count(host) as number_times_joined,\" \n",
    "                               \"guild_name from guilds where Host = 'user1.comcast.com'\"\n",
    "                               \"group by guild_name order by number_times_joined desc\")\n",
    "guild_joins_by_user1.show(5)"
   ]
  },
  {
   "cell_type": "markdown",
   "metadata": {},
   "source": [
    "### What is the most popular Guild? \n",
    "In the sample game data Gates of Madness is the most popular guild, followed closely by Henge of Denravi. Sea of Sorrows is noticably less popular than the other two guilds."
   ]
  },
  {
   "cell_type": "code",
   "execution_count": 33,
   "metadata": {},
   "outputs": [],
   "source": [
    "guild_totals = spark.sql(\"select count(*) as total_joins, guild_name from guilds group by guild_name\")\n",
    "df = guild_totals.toPandas()"
   ]
  },
  {
   "cell_type": "code",
   "execution_count": 31,
   "metadata": {},
   "outputs": [
    {
     "data": {
      "image/png": "[encoded data removed]",
      "text/plain": [
       "<matplotlib.figure.Figure at 0x7eff4b681a20>"
      ]
     },
     "metadata": {},
     "output_type": "display_data"
    }
   ],
   "source": [
    "import matplotlib.pyplot as plt\n",
    "\n",
    "plt.bar(df.guild_name,df.total_joins)\n",
    "plt.title('Guild Joins')\n",
    "plt.xlabel('Guilds')\n",
    "plt.ylabel('Total Joins')\n",
    "plt.show()"
   ]
  },
  {
   "cell_type": "markdown",
   "metadata": {},
   "source": [
    "### What this the average number of joins for guilds?\n",
    "In the sample game data there are an average of 67 joins per guild."
   ]
  },
  {
   "cell_type": "code",
   "execution_count": 36,
   "metadata": {},
   "outputs": [
    {
     "data": {
      "text/html": [
       "<div>\n",
       "<style>\n",
       "    .dataframe thead tr:only-child th {\n",
       "        text-align: right;\n",
       "    }\n",
       "\n",
       "    .dataframe thead th {\n",
       "        text-align: left;\n",
       "    }\n",
       "\n",
       "    .dataframe tbody tr th {\n",
       "        vertical-align: top;\n",
       "    }\n",
       "</style>\n",
       "<table border=\"1\" class=\"dataframe\">\n",
       "  <thead>\n",
       "    <tr style=\"text-align: right;\">\n",
       "      <th></th>\n",
       "      <th>total_joins</th>\n",
       "    </tr>\n",
       "  </thead>\n",
       "  <tbody>\n",
       "    <tr>\n",
       "      <th>count</th>\n",
       "      <td>3.000000</td>\n",
       "    </tr>\n",
       "    <tr>\n",
       "      <th>mean</th>\n",
       "      <td>67.000000</td>\n",
       "    </tr>\n",
       "    <tr>\n",
       "      <th>std</th>\n",
       "      <td>39.357337</td>\n",
       "    </tr>\n",
       "    <tr>\n",
       "      <th>min</th>\n",
       "      <td>22.000000</td>\n",
       "    </tr>\n",
       "    <tr>\n",
       "      <th>25%</th>\n",
       "      <td>53.000000</td>\n",
       "    </tr>\n",
       "    <tr>\n",
       "      <th>50%</th>\n",
       "      <td>84.000000</td>\n",
       "    </tr>\n",
       "    <tr>\n",
       "      <th>75%</th>\n",
       "      <td>89.500000</td>\n",
       "    </tr>\n",
       "    <tr>\n",
       "      <th>max</th>\n",
       "      <td>95.000000</td>\n",
       "    </tr>\n",
       "  </tbody>\n",
       "</table>\n",
       "</div>"
      ],
      "text/plain": [
       "       total_joins\n",
       "count     3.000000\n",
       "mean     67.000000\n",
       "std      39.357337\n",
       "min      22.000000\n",
       "25%      53.000000\n",
       "50%      84.000000\n",
       "75%      89.500000\n",
       "max      95.000000"
      ]
     },
     "execution_count": 36,
     "metadata": {},
     "output_type": "execute_result"
    }
   ],
   "source": [
    "df.describe()"
   ]
  },
  {
   "cell_type": "markdown",
   "metadata": {},
   "source": [
    "## Which user and event are the most common?"
   ]
  },
  {
   "cell_type": "code",
   "execution_count": 54,
   "metadata": {},
   "outputs": [
    {
     "name": "stdout",
     "output_type": "stream",
     "text": [
      "+------+-----------------+---------------+----------+----------------+--------------------+\n",
      "|Accept|             Host|     User-Agent|event_type|      sword_type|           timestamp|\n",
      "+------+-----------------+---------------+----------+----------------+--------------------+\n",
      "|   */*|    user1.att.com|ApacheBench/2.3|join_guild|Gates_of_Madness|2021-04-13 00:00:...|\n",
      "|   */*|user2.comcast.com|ApacheBench/2.3|join_guild|Henge_of_Denravi|2021-04-13 00:01:...|\n",
      "|   */*|    user1.att.com|ApacheBench/2.3|join_guild|Gates_of_Madness|2021-04-13 00:04:...|\n",
      "|   */*|    user1.att.com|ApacheBench/2.3|join_guild|Gates_of_Madness|2021-04-13 00:00:...|\n",
      "|   */*|    user1.att.com|ApacheBench/2.3|join_guild|Gates_of_Madness|2021-04-13 00:00:...|\n",
      "|   */*|    user1.att.com|ApacheBench/2.3|join_guild|  Sea_of_Sorrows|2021-04-13 00:01:...|\n",
      "|   */*|user2.comcast.com|ApacheBench/2.3|join_guild|Gates_of_Madness|2021-04-13 00:02:...|\n",
      "|   */*|    user1.att.com|ApacheBench/2.3|join_guild|Gates_of_Madness|2021-04-13 00:00:...|\n",
      "|   */*|    user1.att.com|ApacheBench/2.3|join_guild|Gates_of_Madness|2021-04-13 00:01:...|\n",
      "|   */*|    user1.att.com|ApacheBench/2.3|join_guild|Henge_of_Denravi|2021-04-13 00:03:...|\n",
      "|   */*|user2.comcast.com|ApacheBench/2.3| buy_sword|       longsword|2021-04-13 00:00:...|\n",
      "|   */*|    user1.att.com|ApacheBench/2.3|join_guild|Henge_of_Denravi|2021-04-13 00:01:...|\n",
      "|   */*|    user1.att.com|ApacheBench/2.3|join_guild|  Sea_of_Sorrows|2021-04-13 00:01:...|\n",
      "|   */*|user2.comcast.com|ApacheBench/2.3|join_guild|Henge_of_Denravi|2021-04-13 00:01:...|\n",
      "|   */*|user2.comcast.com|ApacheBench/2.3|join_guild|Henge_of_Denravi|2021-04-13 00:04:...|\n",
      "+------+-----------------+---------------+----------+----------------+--------------------+\n",
      "only showing top 15 rows\n",
      "\n"
     ]
    }
   ],
   "source": [
    "full_users = spark.sql(\"select * from purchases union select * from guilds\")\n",
    "full_users.show(15)\n",
    "df_all = full_users.toPandas()"
   ]
  },
  {
   "cell_type": "code",
   "execution_count": 79,
   "metadata": {},
   "outputs": [
    {
     "data": {
      "image/png": "[encoded data removed]",
      "text/plain": [
       "<matplotlib.figure.Figure at 0x7eff4aef49b0>"
      ]
     },
     "metadata": {},
     "output_type": "display_data"
    }
   ],
   "source": [
    "df_all.groupby(['event_type','Host']).size().unstack().plot(kind='bar',stacked = True,figsize=(10, 5))\n",
    "plt.title('Event occurance by Host')\n",
    "plt.xlabel('Events')\n",
    "plt.ylabel('Frequency')\n",
    "plt.show()"
   ]
  },
  {
   "cell_type": "code",
   "execution_count": 78,
   "metadata": {},
   "outputs": [
    {
     "data": {
      "text/html": [
       "<div>\n",
       "<style>\n",
       "    .dataframe thead tr:only-child th {\n",
       "        text-align: right;\n",
       "    }\n",
       "\n",
       "    .dataframe thead th {\n",
       "        text-align: left;\n",
       "    }\n",
       "\n",
       "    .dataframe tbody tr th {\n",
       "        vertical-align: top;\n",
       "    }\n",
       "</style>\n",
       "<table border=\"1\" class=\"dataframe\">\n",
       "  <thead>\n",
       "    <tr style=\"text-align: right;\">\n",
       "      <th></th>\n",
       "      <th>Accept</th>\n",
       "      <th>Host</th>\n",
       "      <th>User-Agent</th>\n",
       "      <th>event_type</th>\n",
       "      <th>sword_type</th>\n",
       "      <th>timestamp</th>\n",
       "    </tr>\n",
       "  </thead>\n",
       "  <tbody>\n",
       "    <tr>\n",
       "      <th>count</th>\n",
       "      <td>264</td>\n",
       "      <td>264</td>\n",
       "      <td>264</td>\n",
       "      <td>264</td>\n",
       "      <td>264</td>\n",
       "      <td>264</td>\n",
       "    </tr>\n",
       "    <tr>\n",
       "      <th>unique</th>\n",
       "      <td>1</td>\n",
       "      <td>3</td>\n",
       "      <td>1</td>\n",
       "      <td>2</td>\n",
       "      <td>5</td>\n",
       "      <td>264</td>\n",
       "    </tr>\n",
       "    <tr>\n",
       "      <th>top</th>\n",
       "      <td>*/*</td>\n",
       "      <td>user1.att.com</td>\n",
       "      <td>ApacheBench/2.3</td>\n",
       "      <td>join_guild</td>\n",
       "      <td>Gates_of_Madness</td>\n",
       "      <td>2021-04-13 00:01:43.988</td>\n",
       "    </tr>\n",
       "    <tr>\n",
       "      <th>freq</th>\n",
       "      <td>264</td>\n",
       "      <td>106</td>\n",
       "      <td>264</td>\n",
       "      <td>201</td>\n",
       "      <td>95</td>\n",
       "      <td>1</td>\n",
       "    </tr>\n",
       "  </tbody>\n",
       "</table>\n",
       "</div>"
      ],
      "text/plain": [
       "       Accept           Host       User-Agent  event_type        sword_type  \\\n",
       "count     264            264              264         264               264   \n",
       "unique      1              3                1           2                 5   \n",
       "top       */*  user1.att.com  ApacheBench/2.3  join_guild  Gates_of_Madness   \n",
       "freq      264            106              264         201                95   \n",
       "\n",
       "                      timestamp  \n",
       "count                       264  \n",
       "unique                      264  \n",
       "top     2021-04-13 00:01:43.988  \n",
       "freq                          1  "
      ]
     },
     "execution_count": 78,
     "metadata": {},
     "output_type": "execute_result"
    }
   ],
   "source": [
    "df_all.describe()"
   ]
  },
  {
   "cell_type": "markdown",
   "metadata": {},
   "source": [
    "# Streaming Data Ingestion\n",
    "\n",
    "## Filter Events and Write to HDFS\n",
    "The Python code below extracts events from the kafka events topic and filters by event_type. Filtered purchase and guild event data are then written to HDFS in Parquet format. This code handles event data in streaming mode. "
   ]
  },
  {
   "cell_type": "code",
   "execution_count": 1,
   "metadata": {
    "collapsed": true
   },
   "outputs": [],
   "source": [
    "import json\n",
    "from pyspark.sql import SparkSession\n",
    "from pyspark.sql.functions import udf, from_json\n",
    "from pyspark.sql.types import StructType, StructField, StringType"
   ]
  },
  {
   "cell_type": "markdown",
   "metadata": {},
   "source": [
    "Define event schema."
   ]
  },
  {
   "cell_type": "code",
   "execution_count": 2,
   "metadata": {
    "collapsed": true
   },
   "outputs": [],
   "source": [
    "def buy_sword_event_schema():\n",
    "    \"\"\"\n",
    "    root\n",
    "    |-- Host: string (nullable = true)\n",
    "    |-- sword_type: string (nullable = true)\n",
    "    |-- event_type: string (nullable = true)\n",
    "    |-- Accept: string (nullable = true)\n",
    "    |-- User-Agent: string (nullable = true)\n",
    "    |-- timestamp: string (nullable = true)\n",
    "    \"\"\"\n",
    "    return StructType([\n",
    "        StructField(\"Host\", StringType(), True),\n",
    "        StructField(\"sword_type\", StringType(), True),\n",
    "        StructField(\"event_type\", StringType(), True),\n",
    "        StructField(\"Accept\", StringType(), True),\n",
    "        StructField(\"User-Agent\", StringType(), True),\n",
    "    ])\n",
    "\n",
    "def join_guild_event_schema():\n",
    "    \"\"\"\n",
    "    root\n",
    "    |-- Host: string (nullable = true)\n",
    "    |-- User-Agent: string (nullable = true)\n",
    "    |-- event_type: string (nullable = true)\n",
    "    |-- Accept: string (nullable = true)\n",
    "    |-- guild_name: string (nullable = true)\n",
    "    |-- timestamp: string (nullable = true)\n",
    "    \"\"\"\n",
    "    return StructType([\n",
    "        StructField(\"Host\", StringType(), True),\n",
    "        StructField(\"User-Agent\", StringType(), True),\n",
    "        StructField(\"event_type\", StringType(), True),\n",
    "        StructField(\"Accept\", StringType(), True),\n",
    "        StructField(\"guild_name\", StringType(), True),\n",
    "    ])"
   ]
  },
  {
   "cell_type": "markdown",
   "metadata": {},
   "source": [
    "Boolean functions later used filter events by type and manage different schema between events."
   ]
  },
  {
   "cell_type": "code",
   "execution_count": 3,
   "metadata": {
    "collapsed": true
   },
   "outputs": [],
   "source": [
    "@udf('boolean')\n",
    "def is_sword_purchase(event_as_json):\n",
    "    \"\"\"udf for filtering purchase events\n",
    "    \"\"\"\n",
    "    event = json.loads(event_as_json)\n",
    "    if event['event_type'] == 'buy_sword':\n",
    "        return True\n",
    "    return False\n",
    "\n",
    "@udf('boolean')\n",
    "def is_join_guild(event_as_json):\n",
    "    \"\"\"udf for filtering guild events\n",
    "    \"\"\"\n",
    "    event = json.loads(event_as_json)\n",
    "    if event['event_type'] == 'join_guild':\n",
    "        return True\n",
    "    return False"
   ]
  },
  {
   "cell_type": "markdown",
   "metadata": {},
   "source": [
    "Load data."
   ]
  },
  {
   "cell_type": "code",
   "execution_count": 4,
   "metadata": {
    "collapsed": true
   },
   "outputs": [],
   "source": [
    "raw_events = spark \\\n",
    "        .readStream \\\n",
    "        .format(\"kafka\") \\\n",
    "        .option(\"kafka.bootstrap.servers\", \"kafka:29092\") \\\n",
    "        .option(\"subscribe\", \"events\") \\\n",
    "        .load()"
   ]
  },
  {
   "cell_type": "markdown",
   "metadata": {},
   "source": [
    "Filter data by event type."
   ]
  },
  {
   "cell_type": "code",
   "execution_count": 5,
   "metadata": {
    "collapsed": true
   },
   "outputs": [],
   "source": [
    "sword_purchases = raw_events \\\n",
    "        .filter(is_sword_purchase(raw_events.value.cast('string'))) \\\n",
    "        .select(raw_events.value.cast('string').alias('raw_event'),\n",
    "                raw_events.timestamp.cast('string'),\n",
    "                from_json(raw_events.value.cast('string'),\n",
    "                          buy_sword_event_schema()).alias('json')) \\\n",
    "        .select('raw_event', 'timestamp', 'json.*')\n",
    "\n",
    "join_guilds = raw_events \\\n",
    "        .filter(is_join_guild(raw_events.value.cast('string'))) \\\n",
    "        .select(raw_events.value.cast('string').alias('raw_event'),\n",
    "                raw_events.timestamp.cast('string'),\n",
    "                from_json(raw_events.value.cast('string'),\n",
    "                          join_guild_event_schema()).alias('json')) \\\n",
    "        .select('raw_event', 'timestamp', 'json.*')   "
   ]
  },
  {
   "cell_type": "markdown",
   "metadata": {},
   "source": [
    "Write streaming data to parquet. Triggers every 10 seconds."
   ]
  },
  {
   "cell_type": "code",
   "execution_count": 6,
   "metadata": {
    "collapsed": true
   },
   "outputs": [],
   "source": [
    "sink_swords = sword_purchases \\\n",
    "        .writeStream \\\n",
    "        .format(\"parquet\") \\\n",
    "        .option(\"checkpointLocation\", \"/tmp/checkpoints_for_sword_purchases\") \\\n",
    "        .option(\"path\", \"/tmp/sword_purchases\") \\\n",
    "        .trigger(processingTime=\"10 seconds\") \\\n",
    "        .start()\n",
    "        \n",
    "sink_guilds = join_guilds \\\n",
    "        .writeStream \\\n",
    "        .format(\"parquet\") \\\n",
    "        .option(\"checkpointLocation\", \"/tmp/checkpoints_for_join_guilds\") \\\n",
    "        .option(\"path\", \"/tmp/join_guilds\") \\\n",
    "        .trigger(processingTime=\"10 seconds\") \\\n",
    "        .start()"
   ]
  },
  {
   "cell_type": "markdown",
   "metadata": {},
   "source": [
    "Stop execution."
   ]
  },
  {
   "cell_type": "code",
   "execution_count": 7,
   "metadata": {
    "collapsed": true
   },
   "outputs": [],
   "source": [
    "sink_swords.stop()\n",
    "sink_guilds.stop()"
   ]
  },
  {
   "cell_type": "markdown",
   "metadata": {},
   "source": [
    "## Creating External Tables with Hive\n",
    "The code below creates external tables for both buy_sword events and join_guild events.\n",
    "\n",
    "```\n",
    "docker-compose exec cloudera hive\n",
    "\n",
    "create external table if not exists default.sword_purchases (Raw string, timestamp string, Host string, sword_type string, event_type string, Accept string, User_Agent string) stored as parquet location '/tmp/sword_purchases'  tblproperties (\"parquet.compress\"=\"SNAPPY\");\n",
    "\n",
    "create external table if not exists default.join_guilds (Raw string, timestamp string, Host string, User_Agent string, event_type string, Accept string, guild_name string) stored as parquet location '/tmp/join_guilds'  tblproperties (\"parquet.compress\"=\"SNAPPY\");\n",
    "\n",
    "```"
   ]
  },
  {
   "cell_type": "markdown",
   "metadata": {
    "collapsed": true
   },
   "source": [
    "## Querying External Tables with Presto\n",
    "Using the presto and sql we can query the external tables created above using streaming data. The output for the sql queries will change as they are rerun and more data is streamed to the external tables. \n",
    "\n",
    "```\n",
    "docker-compose exec presto presto --server presto:8080 --catalog hive --schema default\n",
    "```\n",
    "\n",
    "### How many of each type of sword were purchased?\n",
    "```\n",
    "select count(Host) as total_bought, sword_type from sword_purchases group by sword_type;\n",
    "\n",
    " total_bought | sword_type \n",
    "--------------+------------\n",
    "           11 | longsword  \n",
    "           13 | dagger \n",
    "```\n",
    "\n",
    "### How many guild joins occured for each guild?\n",
    "```\n",
    "select count(Host) as total_joins, guild_name  from join_guilds group by guild_name;\n",
    "           \n",
    " total_joins |    guild_name    \n",
    "-------------+------------------\n",
    "          66 | Henge_of_Denravi \n",
    "          65 | Gates_of_Madness \n",
    "          19 | Sea_of_Sorrows   \n",
    "```\n"
   ]
  }
 ],
 "metadata": {
  "environment": {
   "name": "tf2-2-3-gpu.2-3.m59",
   "type": "gcloud",
   "uri": "gcr.io/deeplearning-platform-release/tf2-2-3-gpu.2-3:m59"
  },
  "kernelspec": {
   "display_name": "Python 3",
   "language": "python",
   "name": "python3"
  },
  "language_info": {
   "codemirror_mode": {
    "name": "ipython",
    "version": 3
   },
   "file_extension": ".py",
   "mimetype": "text/x-python",
   "name": "python",
   "nbconvert_exporter": "python",
   "pygments_lexer": "ipython3",
   "version": "3.6.1"
  }
 },
 "nbformat": 4,
 "nbformat_minor": 4
}
